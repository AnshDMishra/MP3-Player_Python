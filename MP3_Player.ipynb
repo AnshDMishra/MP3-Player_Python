{
 "cells": [
  {
   "cell_type": "code",
   "execution_count": 64,
   "id": "3cd3965c-2d2c-4d82-894e-804629c07abc",
   "metadata": {},
   "outputs": [],
   "source": [
    "import pygame\n",
    "from pygame import mixer\n",
    "from tkinter import *\n",
    "import os\n",
    "\n",
    "def playsong():\n",
    "    currentsong=playlist.get(ACTIVE)\n",
    "    print(currentsong)\n",
    "    mixer.music.load(currentsong)\n",
    "    songstatus.set(\"Playing\")\n",
    "    mixer.music.play()\n",
    "\n",
    "def pausesong():\n",
    "    songstatus.set(\"Paused\")\n",
    "    mixer.music.pause()\n",
    "\n",
    "def stopsong():\n",
    "    songstatus.set(\"Stopped\")\n",
    "    mixer.music.stop()\n",
    "\n",
    "def resumesong():\n",
    "    songstatus.set(\"Resuming\")\n",
    "    mixer.music.unpause()\n",
    "\n",
    "\n",
    "root=Tk()\n",
    "root.title('Music Player Project')\n",
    "\n",
    "mixer.init()\n",
    "songstatus=StringVar()\n",
    "songstatus.set(\"choosing\")\n",
    "\n",
    "#playlist---------------\n",
    "\n",
    "playlist=Listbox(root,selectmode=SINGLE,bg=\"sky blue\",fg=\"black\",font=('cambria',10),width=80)\n",
    "playlist.grid(columnspan=5)\n",
    "\n",
    "os.chdir(r'C:\\Users\\HP\\Desktop\\Ansh_Proj\\MP3')\n",
    "songs=os.listdir()\n",
    "for s in songs:\n",
    "    playlist.insert(END,s)\n",
    "\n",
    "playbtn=Button(root,text=\"Play\",command=playsong, width=10, bd=3) \n",
    "playbtn.config(font=('cambria',15,'bold'),bg=\"Green\",fg=\"white\",padx=5,pady=5)\n",
    "playbtn.grid(row=1,column=0)\n",
    "\n",
    "\n",
    "pausebtn=Button(root,text=\"Pause\",command=pausesong,width=10, bd=3)\n",
    "pausebtn.config(font=('cambria',15,'bold'),bg=\"Orange\",fg=\"white\",padx=5,pady=5)\n",
    "pausebtn.grid(row=1,column=1)\n",
    "\n",
    "stopbtn=Button(root,text=\"Stop\",command=stopsong,width=10, bd=3)\n",
    "stopbtn.config(font=('cambria',15,'bold'),bg=\"Red\",fg=\"white\",padx=5,pady=5)\n",
    "stopbtn.grid(row=1,column=2)\n",
    "\n",
    "Resumebtn=Button(root,text=\"Resume\",command=resumesong,width=10, bd=3)\n",
    "Resumebtn.config(font=('cambria',15,'bold'),bg=\"Blue\",fg=\"white\",padx=5,pady=5)\n",
    "Resumebtn.grid(row=1,column=3)\n",
    "\n",
    "mainloop()"
   ]
  },
  {
   "cell_type": "code",
   "execution_count": null,
   "id": "f43a56e5-7a51-4c16-93f6-410341e98f19",
   "metadata": {},
   "outputs": [],
   "source": []
  },
  {
   "cell_type": "code",
   "execution_count": null,
   "id": "2d34782a-fdf0-46dc-8636-a7fede7d4a06",
   "metadata": {},
   "outputs": [],
   "source": []
  },
  {
   "cell_type": "code",
   "execution_count": null,
   "id": "c2e651b2-a111-4f93-b9f2-35ff23f124b5",
   "metadata": {},
   "outputs": [],
   "source": []
  }
 ],
 "metadata": {
  "kernelspec": {
   "display_name": "Python 3 (ipykernel)",
   "language": "python",
   "name": "python3"
  },
  "language_info": {
   "codemirror_mode": {
    "name": "ipython",
    "version": 3
   },
   "file_extension": ".py",
   "mimetype": "text/x-python",
   "name": "python",
   "nbconvert_exporter": "python",
   "pygments_lexer": "ipython3",
   "version": "3.9.7"
  }
 },
 "nbformat": 4,
 "nbformat_minor": 5
}
